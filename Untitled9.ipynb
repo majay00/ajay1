{
  "nbformat": 4,
  "nbformat_minor": 0,
  "metadata": {
    "colab": {
      "provenance": [],
      "authorship_tag": "ABX9TyN89Qr7prIIACC+f6WGtm+L",
      "include_colab_link": true
    },
    "kernelspec": {
      "name": "python3",
      "display_name": "Python 3"
    },
    "language_info": {
      "name": "python"
    }
  },
  "cells": [
    {
      "cell_type": "markdown",
      "metadata": {
        "id": "view-in-github",
        "colab_type": "text"
      },
      "source": [
        "<a href=\"https://colab.research.google.com/github/majay00/ajay1/blob/main/Untitled9.ipynb\" target=\"_parent\"><img src=\"https://colab.research.google.com/assets/colab-badge.svg\" alt=\"Open In Colab\"/></a>"
      ]
    },
    {
      "cell_type": "code",
      "execution_count": null,
      "metadata": {
        "id": "jY8MpZ8eiw65"
      },
      "outputs": [],
      "source": [
        "import pandas as pd\n",
        "titanic_df=pd.read_csv(\"/content/titanic.csv\")\n",
        "print(\"Loaded Dataset:\")\n",
        "print(titanic_df)\n"
      ]
    },
    {
      "cell_type": "code",
      "source": [
        "y=titanic_df['Survived']\n",
        "x=titanic_df.drop('Survived',axis=1)\n"
      ],
      "metadata": {
        "id": "aM7fi3r2lE-9"
      },
      "execution_count": null,
      "outputs": []
    },
    {
      "cell_type": "code",
      "source": [
        "missing_data=titanic_df.isnull().sum()\n",
        "print(\"\\n Missing Data:\")\n",
        "print(missing_data)\n",
        "titanic_df_cleaned=titanic_df.dropna()\n",
        "titanic_df_cleaned=titanic_df.fillna(titanic_df.ffill())\n",
        "print(\"\\n Cleaned Dataset:\")\n",
        "print(titanic_df_cleaned.head(10))"
      ],
      "metadata": {
        "id": "n_6cpXUYlWrj"
      },
      "execution_count": null,
      "outputs": []
    }
  ]
}